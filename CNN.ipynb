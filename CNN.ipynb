{
 "cells": [
  {
   "cell_type": "code",
   "execution_count": 18,
   "id": "93624fc4-7918-45b2-87d9-736213e88e83",
   "metadata": {},
   "outputs": [],
   "source": [
    "from __future__ import print_function\n",
    "import keras\n",
    "from keras.datasets import mnist\n",
    "from keras.models import Sequential\n",
    "from keras.layers import Dense, Dropout, Flatten\n",
    "from keras.layers import Conv2D, MaxPooling2D\n",
    "from keras import backend as K\n",
    "import numpy as np\n",
    "import matplotlib.pyplot as plt\n",
    "%matplotlib inline\n",
    "\n",
    "batch_size = 128\n",
    "num_classes = 10\n",
    "epochs = 12"
   ]
  },
  {
   "cell_type": "code",
   "execution_count": 41,
   "id": "e5866eca-38e9-4c72-9540-453fa2a8b34d",
   "metadata": {},
   "outputs": [
    {
     "data": {
      "text/plain": [
       "<matplotlib.image.AxesImage at 0x7fd67c1720e0>"
      ]
     },
     "execution_count": 41,
     "metadata": {},
     "output_type": "execute_result"
    },
    {
     "data": {
      "image/png": "[encoded data removed]",
      "text/plain": [
       "<Figure size 640x480 with 1 Axes>"
      ]
     },
     "metadata": {},
     "output_type": "display_data"
    }
   ],
   "source": [
    "#input image dimension\n",
    "img_rows, img_cols = 28, 28\n",
    "#the data split between train and test\n",
    "(x_train, y_train), (x_test, y_test) = mnist.load_data()\n",
    "plt.imshow(x_train[1])"
   ]
  },
  {
   "cell_type": "code",
   "execution_count": 3,
   "id": "e7f672a8-7997-48f2-ba87-e3b214e31fe5",
   "metadata": {},
   "outputs": [
    {
     "name": "stdout",
     "output_type": "stream",
     "text": [
      "Each Sample Shape: (28, 28, 1)\n",
      "X train Shape:  (60000, 28, 28, 1)\n",
      "60000 train samples\n",
      "10000 test samples\n"
     ]
    }
   ],
   "source": [
    "\n",
    "\n",
    "x_train = x_train.reshape(x_train.shape[0], img_rows, img_cols, 1)\n",
    "x_test = x_test.reshape(x_test.shape[0], img_rows, img_cols, 1)\n",
    "input_shape = (img_rows * img_cols, 1)\n",
    "\n",
    "\n",
    "\n",
    "x_train = x_train.astype('float32')\n",
    "x_test = x_test.astype('float32')\n",
    "x_train /= 255\n",
    "x_test /= 255\n",
    "print('Each Sample Shape:', x_train[0].shape)\n",
    "print(\"X train Shape: \", x_train.shape)\n",
    "print(x_train.shape[0], 'train samples')\n",
    "print(x_test.shape[0], 'test samples')"
   ]
  },
  {
   "cell_type": "code",
   "execution_count": 4,
   "id": "a72f1b33-f49c-4241-9df4-171d7193cfa9",
   "metadata": {},
   "outputs": [],
   "source": [
    "# convert class vectors to binary class matrices\n",
    "y_train = keras.utils.to_categorical(y_train, num_classes)\n",
    "y_test = keras.utils.to_categorical(y_test, num_classes)"
   ]
  },
  {
   "cell_type": "code",
   "execution_count": 5,
   "id": "cfab4d7d-7b43-4a7c-962c-3aea0c39a105",
   "metadata": {},
   "outputs": [],
   "source": [
    "#Create CNN model\n",
    "model = Sequential()\n",
    "model.add(Conv2D(32, kernel_size = (3, 3), strides = (1, 1), activation = 'relu', input_shape = (28, 28, 1)))\n",
    "model.add(Conv2D(64, kernel_size = (3, 3), strides = (1, 1), activation = 'relu'))\n",
    "model.add(MaxPooling2D(pool_size = (2, 2), strides = (2, 2)))\n",
    "model.add(Dropout(0.5))\n",
    "model.add(Flatten())\n",
    "model.add(Dense(728, activation = 'relu'))\n",
    "model.add(Dropout(0.5))\n",
    "model.add(Dense(10, activation = 'softmax'))"
   ]
  },
  {
   "cell_type": "code",
   "execution_count": 6,
   "id": "1652b6e5-51dc-44ff-8c00-afd9a6d6bafb",
   "metadata": {},
   "outputs": [
    {
     "name": "stdout",
     "output_type": "stream",
     "text": [
      "Model: \"sequential\"\n",
      "_________________________________________________________________\n",
      " Layer (type)                Output Shape              Param #   \n",
      "=================================================================\n",
      " conv2d (Conv2D)             (None, 26, 26, 32)        320       \n",
      "                                                                 \n",
      " conv2d_1 (Conv2D)           (None, 24, 24, 64)        18496     \n",
      "                                                                 \n",
      " max_pooling2d (MaxPooling2  (None, 12, 12, 64)        0         \n",
      " D)                                                              \n",
      "                                                                 \n",
      " dropout (Dropout)           (None, 12, 12, 64)        0         \n",
      "                                                                 \n",
      " flatten (Flatten)           (None, 9216)              0         \n",
      "                                                                 \n",
      " dense (Dense)               (None, 728)               6709976   \n",
      "                                                                 \n",
      " dropout_1 (Dropout)         (None, 728)               0         \n",
      "                                                                 \n",
      " dense_1 (Dense)             (None, 10)                7290      \n",
      "                                                                 \n",
      "=================================================================\n",
      "Total params: 6736082 (25.70 MB)\n",
      "Trainable params: 6736082 (25.70 MB)\n",
      "Non-trainable params: 0 (0.00 Byte)\n",
      "_________________________________________________________________\n"
     ]
    }
   ],
   "source": [
    "model.summary()"
   ]
  },
  {
   "cell_type": "code",
   "execution_count": 7,
   "id": "b1a8f524-c0f1-43d0-b474-1b0bd5b3b2e9",
   "metadata": {},
   "outputs": [],
   "source": [
    "# loss and optimizer\n",
    "optimizer = keras.optimizers.Adam()\n",
    "loss = keras.losses.categorical_crossentropy"
   ]
  },
  {
   "cell_type": "code",
   "execution_count": 8,
   "id": "43ce391b-7061-4a98-903b-3cea88f6ee4b",
   "metadata": {},
   "outputs": [],
   "source": [
    "#Complie the model\n",
    "model.compile(loss = loss, optimizer = optimizer, metrics = ['accuracy'])"
   ]
  },
  {
   "cell_type": "code",
   "execution_count": 10,
   "id": "7bc30516-a44e-45cb-9439-02f071e48a1d",
   "metadata": {},
   "outputs": [
    {
     "name": "stdout",
     "output_type": "stream",
     "text": [
      "Epoch 1/12\n"
     ]
    },
    {
     "name": "stderr",
     "output_type": "stream",
     "text": [
      "2023-11-02 15:22:25.509785: W tensorflow/tsl/framework/cpu_allocator_impl.cc:83] Allocation of 188160000 exceeds 10% of free system memory.\n"
     ]
    },
    {
     "name": "stdout",
     "output_type": "stream",
     "text": [
      "469/469 [==============================] - 135s 287ms/step - loss: 0.0131 - accuracy: 0.9954 - val_loss: 0.0257 - val_accuracy: 0.9933\n",
      "Epoch 2/12\n",
      "469/469 [==============================] - 135s 287ms/step - loss: 0.0135 - accuracy: 0.9954 - val_loss: 0.0230 - val_accuracy: 0.9931\n",
      "Epoch 3/12\n",
      "469/469 [==============================] - 134s 287ms/step - loss: 0.0110 - accuracy: 0.9964 - val_loss: 0.0280 - val_accuracy: 0.9921\n",
      "Epoch 4/12\n",
      "469/469 [==============================] - 134s 286ms/step - loss: 0.0111 - accuracy: 0.9961 - val_loss: 0.0268 - val_accuracy: 0.9935\n",
      "Epoch 5/12\n",
      "469/469 [==============================] - 134s 286ms/step - loss: 0.0096 - accuracy: 0.9970 - val_loss: 0.0291 - val_accuracy: 0.9928\n",
      "Epoch 6/12\n",
      "469/469 [==============================] - 134s 286ms/step - loss: 0.0088 - accuracy: 0.9968 - val_loss: 0.0283 - val_accuracy: 0.9929\n",
      "Epoch 7/12\n",
      "469/469 [==============================] - 136s 290ms/step - loss: 0.0107 - accuracy: 0.9965 - val_loss: 0.0281 - val_accuracy: 0.9933\n",
      "Epoch 8/12\n",
      "469/469 [==============================] - 136s 290ms/step - loss: 0.0085 - accuracy: 0.9971 - val_loss: 0.0266 - val_accuracy: 0.9933\n",
      "Epoch 9/12\n",
      "469/469 [==============================] - 135s 289ms/step - loss: 0.0078 - accuracy: 0.9974 - val_loss: 0.0306 - val_accuracy: 0.9927\n",
      "Epoch 10/12\n",
      "469/469 [==============================] - 135s 287ms/step - loss: 0.0077 - accuracy: 0.9973 - val_loss: 0.0284 - val_accuracy: 0.9936\n",
      "Epoch 11/12\n",
      "469/469 [==============================] - 135s 287ms/step - loss: 0.0083 - accuracy: 0.9972 - val_loss: 0.0347 - val_accuracy: 0.9916\n",
      "Epoch 12/12\n",
      "469/469 [==============================] - 135s 287ms/step - loss: 0.0073 - accuracy: 0.9975 - val_loss: 0.0322 - val_accuracy: 0.9934\n"
     ]
    }
   ],
   "source": [
    "#train the model\n",
    "model.fit(\n",
    "    x_train, y_train,\n",
    "    batch_size = batch_size,\n",
    "    epochs = epochs,\n",
    "    verbose = 1,\n",
    "    validation_data = (x_test, y_test)\n",
    ")\n",
    "model.save(\"/home/roni/Project/Convulational Neural Network/model_cnn.h5\")"
   ]
  },
  {
   "cell_type": "code",
   "execution_count": 11,
   "id": "c349f6fc-048e-4350-91f1-30a7c0111533",
   "metadata": {},
   "outputs": [],
   "source": [
    "# shape = batch_size, height, weight, channel"
   ]
  },
  {
   "cell_type": "code",
   "execution_count": 35,
   "id": "9937dd83-87af-44b1-81d1-f38ad205eb2e",
   "metadata": {},
   "outputs": [],
   "source": [
    "test_image = x_test[0].reshape(1, 28, 28, 1)"
   ]
  },
  {
   "cell_type": "code",
   "execution_count": 36,
   "id": "8f846936-e5b4-4b46-aa06-84ecc591a8b4",
   "metadata": {},
   "outputs": [
    {
     "name": "stdout",
     "output_type": "stream",
     "text": [
      "1/1 [==============================] - 0s 34ms/step\n"
     ]
    }
   ],
   "source": [
    "pred = model.predict(test_image)"
   ]
  },
  {
   "cell_type": "code",
   "execution_count": 37,
   "id": "897ffe22-2865-4c91-8433-b50b4d23704a",
   "metadata": {},
   "outputs": [],
   "source": [
    "output = np.argmax(pred, axis = 1)"
   ]
  },
  {
   "cell_type": "code",
   "execution_count": 39,
   "id": "d6355f18-b919-4c33-b9c2-9ba1108764fb",
   "metadata": {},
   "outputs": [
    {
     "name": "stdout",
     "output_type": "stream",
     "text": [
      "Actual output:  [0. 0. 0. 0. 0. 0. 0. 1. 0. 0.]\n",
      "Predicted output:  [0. 0. 0. 0. 0. 0. 0. 1. 0. 0.]\n"
     ]
    },
    {
     "data": {
      "text/plain": [
       "<matplotlib.image.AxesImage at 0x7fd67c297520>"
      ]
     },
     "execution_count": 39,
     "metadata": {},
     "output_type": "execute_result"
    },
    {
     "data": {
      "image/png": "[encoded data removed]",
      "text/plain": [
       "<Figure size 640x480 with 1 Axes>"
      ]
     },
     "metadata": {},
     "output_type": "display_data"
    }
   ],
   "source": [
    "print(\"Actual output: \", y_test[0])\n",
    "print(\"Predicted output: \", y_test[0])\n",
    "plt.imshow(x_test[0])"
   ]
  },
  {
   "cell_type": "code",
   "execution_count": null,
   "id": "a2b62732-e616-4ea6-9e37-a4e551c406af",
   "metadata": {},
   "outputs": [],
   "source": []
  }
 ],
 "metadata": {
  "kernelspec": {
   "display_name": "Python 3 (ipykernel)",
   "language": "python",
   "name": "python3"
  },
  "language_info": {
   "codemirror_mode": {
    "name": "ipython",
    "version": 3
   },
   "file_extension": ".py",
   "mimetype": "text/x-python",
   "name": "python",
   "nbconvert_exporter": "python",
   "pygments_lexer": "ipython3",
   "version": "3.10.12"
  }
 },
 "nbformat": 4,
 "nbformat_minor": 5
}
